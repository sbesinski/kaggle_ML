{
  "nbformat": 4,
  "nbformat_minor": 0,
  "metadata": {
    "colab": {
      "provenance": [],
      "authorship_tag": "ABX9TyOjvZ0oIRrHv09ZyHpxUx3+",
      "include_colab_link": true
    },
    "kernelspec": {
      "name": "python3",
      "display_name": "Python 3"
    },
    "language_info": {
      "name": "python"
    }
  },
  "cells": [
    {
      "cell_type": "markdown",
      "metadata": {
        "id": "view-in-github",
        "colab_type": "text"
      },
      "source": [
        "<a href=\"https://colab.research.google.com/github/sbesinski/kaggle_ML/blob/main/sleeping_time_sparkML.ipynb\" target=\"_parent\"><img src=\"https://colab.research.google.com/assets/colab-badge.svg\" alt=\"Open In Colab\"/></a>"
      ]
    },
    {
      "cell_type": "code",
      "execution_count": 1,
      "metadata": {
        "id": "rVAuLXpNN4SU"
      },
      "outputs": [],
      "source": [
        "import pandas as pd\n",
        "import matplotlib.pyplot as plt\n",
        "%matplotlib inline\n",
        "import kagglehub\n",
        "import os"
      ]
    },
    {
      "cell_type": "code",
      "source": [
        "# Download latest version\n",
        "path = kagglehub.dataset_download(\"govindaramsriram/sleep-time-prediction\")\n",
        "\n",
        "print(\"Path to dataset files:\", path)\n",
        "csv_path = os.path.join(path, \"sleeptime_prediction_dataset.csv\")\n",
        "df = pd.read_csv(csv_path)\n",
        "df"
      ],
      "metadata": {
        "colab": {
          "base_uri": "https://localhost:8080/",
          "height": 504
        },
        "id": "P99IvMlzODBi",
        "outputId": "31d7c05d-a088-4a87-ff6b-3dfa50d9c477"
      },
      "execution_count": 2,
      "outputs": [
        {
          "output_type": "stream",
          "name": "stdout",
          "text": [
            "Warning: Looks like you're using an outdated `kagglehub` version (installed: 0.3.6), please consider upgrading to the latest version (0.3.7).\n",
            "Downloading from https://www.kaggle.com/api/v1/datasets/download/govindaramsriram/sleep-time-prediction?dataset_version_number=1...\n"
          ]
        },
        {
          "output_type": "stream",
          "name": "stderr",
          "text": [
            "100%|██████████| 28.1k/28.1k [00:00<00:00, 20.7MB/s]"
          ]
        },
        {
          "output_type": "stream",
          "name": "stdout",
          "text": [
            "Extracting files...\n",
            "Path to dataset files: /root/.cache/kagglehub/datasets/govindaramsriram/sleep-time-prediction/versions/1\n"
          ]
        },
        {
          "output_type": "stream",
          "name": "stderr",
          "text": [
            "\n"
          ]
        },
        {
          "output_type": "execute_result",
          "data": {
            "text/plain": [
              "      WorkoutTime  ReadingTime  PhoneTime  WorkHours  CaffeineIntake  \\\n",
              "0            1.12         0.52       3.29       7.89          216.08   \n",
              "1            2.85         0.49       4.22       5.03          206.18   \n",
              "2            2.20         1.81       4.04       9.23           28.73   \n",
              "3            1.80         0.50       1.62       7.68          276.77   \n",
              "4            0.47         0.54       1.60       4.94          170.54   \n",
              "...           ...          ...        ...        ...             ...   \n",
              "1995         1.97         0.88       3.74       5.64          257.30   \n",
              "1996         2.87         0.67       3.01       5.26          269.25   \n",
              "1997         0.21         0.79       4.06       6.73          284.01   \n",
              "1998         0.17         1.06       2.94       9.45          119.25   \n",
              "1999         0.85         0.32       1.60       4.63           65.14   \n",
              "\n",
              "      RelaxationTime  SleepTime  \n",
              "0               0.75       3.45  \n",
              "1               0.67       4.88  \n",
              "2               0.35       3.61  \n",
              "3               1.21       4.94  \n",
              "4               0.95       5.50  \n",
              "...              ...        ...  \n",
              "1995            0.01       4.24  \n",
              "1996            1.75       5.89  \n",
              "1997            0.61       3.00  \n",
              "1998            1.88       3.53  \n",
              "1999            0.63       5.83  \n",
              "\n",
              "[2000 rows x 7 columns]"
            ],
            "text/html": [
              "\n",
              "  <div id=\"df-6c3ea999-c62b-425c-832f-add93f3bc80b\" class=\"colab-df-container\">\n",
              "    <div>\n",
              "<style scoped>\n",
              "    .dataframe tbody tr th:only-of-type {\n",
              "        vertical-align: middle;\n",
              "    }\n",
              "\n",
              "    .dataframe tbody tr th {\n",
              "        vertical-align: top;\n",
              "    }\n",
              "\n",
              "    .dataframe thead th {\n",
              "        text-align: right;\n",
              "    }\n",
              "</style>\n",
              "<table border=\"1\" class=\"dataframe\">\n",
              "  <thead>\n",
              "    <tr style=\"text-align: right;\">\n",
              "      <th></th>\n",
              "      <th>WorkoutTime</th>\n",
              "      <th>ReadingTime</th>\n",
              "      <th>PhoneTime</th>\n",
              "      <th>WorkHours</th>\n",
              "      <th>CaffeineIntake</th>\n",
              "      <th>RelaxationTime</th>\n",
              "      <th>SleepTime</th>\n",
              "    </tr>\n",
              "  </thead>\n",
              "  <tbody>\n",
              "    <tr>\n",
              "      <th>0</th>\n",
              "      <td>1.12</td>\n",
              "      <td>0.52</td>\n",
              "      <td>3.29</td>\n",
              "      <td>7.89</td>\n",
              "      <td>216.08</td>\n",
              "      <td>0.75</td>\n",
              "      <td>3.45</td>\n",
              "    </tr>\n",
              "    <tr>\n",
              "      <th>1</th>\n",
              "      <td>2.85</td>\n",
              "      <td>0.49</td>\n",
              "      <td>4.22</td>\n",
              "      <td>5.03</td>\n",
              "      <td>206.18</td>\n",
              "      <td>0.67</td>\n",
              "      <td>4.88</td>\n",
              "    </tr>\n",
              "    <tr>\n",
              "      <th>2</th>\n",
              "      <td>2.20</td>\n",
              "      <td>1.81</td>\n",
              "      <td>4.04</td>\n",
              "      <td>9.23</td>\n",
              "      <td>28.73</td>\n",
              "      <td>0.35</td>\n",
              "      <td>3.61</td>\n",
              "    </tr>\n",
              "    <tr>\n",
              "      <th>3</th>\n",
              "      <td>1.80</td>\n",
              "      <td>0.50</td>\n",
              "      <td>1.62</td>\n",
              "      <td>7.68</td>\n",
              "      <td>276.77</td>\n",
              "      <td>1.21</td>\n",
              "      <td>4.94</td>\n",
              "    </tr>\n",
              "    <tr>\n",
              "      <th>4</th>\n",
              "      <td>0.47</td>\n",
              "      <td>0.54</td>\n",
              "      <td>1.60</td>\n",
              "      <td>4.94</td>\n",
              "      <td>170.54</td>\n",
              "      <td>0.95</td>\n",
              "      <td>5.50</td>\n",
              "    </tr>\n",
              "    <tr>\n",
              "      <th>...</th>\n",
              "      <td>...</td>\n",
              "      <td>...</td>\n",
              "      <td>...</td>\n",
              "      <td>...</td>\n",
              "      <td>...</td>\n",
              "      <td>...</td>\n",
              "      <td>...</td>\n",
              "    </tr>\n",
              "    <tr>\n",
              "      <th>1995</th>\n",
              "      <td>1.97</td>\n",
              "      <td>0.88</td>\n",
              "      <td>3.74</td>\n",
              "      <td>5.64</td>\n",
              "      <td>257.30</td>\n",
              "      <td>0.01</td>\n",
              "      <td>4.24</td>\n",
              "    </tr>\n",
              "    <tr>\n",
              "      <th>1996</th>\n",
              "      <td>2.87</td>\n",
              "      <td>0.67</td>\n",
              "      <td>3.01</td>\n",
              "      <td>5.26</td>\n",
              "      <td>269.25</td>\n",
              "      <td>1.75</td>\n",
              "      <td>5.89</td>\n",
              "    </tr>\n",
              "    <tr>\n",
              "      <th>1997</th>\n",
              "      <td>0.21</td>\n",
              "      <td>0.79</td>\n",
              "      <td>4.06</td>\n",
              "      <td>6.73</td>\n",
              "      <td>284.01</td>\n",
              "      <td>0.61</td>\n",
              "      <td>3.00</td>\n",
              "    </tr>\n",
              "    <tr>\n",
              "      <th>1998</th>\n",
              "      <td>0.17</td>\n",
              "      <td>1.06</td>\n",
              "      <td>2.94</td>\n",
              "      <td>9.45</td>\n",
              "      <td>119.25</td>\n",
              "      <td>1.88</td>\n",
              "      <td>3.53</td>\n",
              "    </tr>\n",
              "    <tr>\n",
              "      <th>1999</th>\n",
              "      <td>0.85</td>\n",
              "      <td>0.32</td>\n",
              "      <td>1.60</td>\n",
              "      <td>4.63</td>\n",
              "      <td>65.14</td>\n",
              "      <td>0.63</td>\n",
              "      <td>5.83</td>\n",
              "    </tr>\n",
              "  </tbody>\n",
              "</table>\n",
              "<p>2000 rows × 7 columns</p>\n",
              "</div>\n",
              "    <div class=\"colab-df-buttons\">\n",
              "\n",
              "  <div class=\"colab-df-container\">\n",
              "    <button class=\"colab-df-convert\" onclick=\"convertToInteractive('df-6c3ea999-c62b-425c-832f-add93f3bc80b')\"\n",
              "            title=\"Convert this dataframe to an interactive table.\"\n",
              "            style=\"display:none;\">\n",
              "\n",
              "  <svg xmlns=\"http://www.w3.org/2000/svg\" height=\"24px\" viewBox=\"0 -960 960 960\">\n",
              "    <path d=\"M120-120v-720h720v720H120Zm60-500h600v-160H180v160Zm220 220h160v-160H400v160Zm0 220h160v-160H400v160ZM180-400h160v-160H180v160Zm440 0h160v-160H620v160ZM180-180h160v-160H180v160Zm440 0h160v-160H620v160Z\"/>\n",
              "  </svg>\n",
              "    </button>\n",
              "\n",
              "  <style>\n",
              "    .colab-df-container {\n",
              "      display:flex;\n",
              "      gap: 12px;\n",
              "    }\n",
              "\n",
              "    .colab-df-convert {\n",
              "      background-color: #E8F0FE;\n",
              "      border: none;\n",
              "      border-radius: 50%;\n",
              "      cursor: pointer;\n",
              "      display: none;\n",
              "      fill: #1967D2;\n",
              "      height: 32px;\n",
              "      padding: 0 0 0 0;\n",
              "      width: 32px;\n",
              "    }\n",
              "\n",
              "    .colab-df-convert:hover {\n",
              "      background-color: #E2EBFA;\n",
              "      box-shadow: 0px 1px 2px rgba(60, 64, 67, 0.3), 0px 1px 3px 1px rgba(60, 64, 67, 0.15);\n",
              "      fill: #174EA6;\n",
              "    }\n",
              "\n",
              "    .colab-df-buttons div {\n",
              "      margin-bottom: 4px;\n",
              "    }\n",
              "\n",
              "    [theme=dark] .colab-df-convert {\n",
              "      background-color: #3B4455;\n",
              "      fill: #D2E3FC;\n",
              "    }\n",
              "\n",
              "    [theme=dark] .colab-df-convert:hover {\n",
              "      background-color: #434B5C;\n",
              "      box-shadow: 0px 1px 3px 1px rgba(0, 0, 0, 0.15);\n",
              "      filter: drop-shadow(0px 1px 2px rgba(0, 0, 0, 0.3));\n",
              "      fill: #FFFFFF;\n",
              "    }\n",
              "  </style>\n",
              "\n",
              "    <script>\n",
              "      const buttonEl =\n",
              "        document.querySelector('#df-6c3ea999-c62b-425c-832f-add93f3bc80b button.colab-df-convert');\n",
              "      buttonEl.style.display =\n",
              "        google.colab.kernel.accessAllowed ? 'block' : 'none';\n",
              "\n",
              "      async function convertToInteractive(key) {\n",
              "        const element = document.querySelector('#df-6c3ea999-c62b-425c-832f-add93f3bc80b');\n",
              "        const dataTable =\n",
              "          await google.colab.kernel.invokeFunction('convertToInteractive',\n",
              "                                                    [key], {});\n",
              "        if (!dataTable) return;\n",
              "\n",
              "        const docLinkHtml = 'Like what you see? Visit the ' +\n",
              "          '<a target=\"_blank\" href=https://colab.research.google.com/notebooks/data_table.ipynb>data table notebook</a>'\n",
              "          + ' to learn more about interactive tables.';\n",
              "        element.innerHTML = '';\n",
              "        dataTable['output_type'] = 'display_data';\n",
              "        await google.colab.output.renderOutput(dataTable, element);\n",
              "        const docLink = document.createElement('div');\n",
              "        docLink.innerHTML = docLinkHtml;\n",
              "        element.appendChild(docLink);\n",
              "      }\n",
              "    </script>\n",
              "  </div>\n",
              "\n",
              "\n",
              "<div id=\"df-38c6698c-651e-45f5-8508-dc68781f56f5\">\n",
              "  <button class=\"colab-df-quickchart\" onclick=\"quickchart('df-38c6698c-651e-45f5-8508-dc68781f56f5')\"\n",
              "            title=\"Suggest charts\"\n",
              "            style=\"display:none;\">\n",
              "\n",
              "<svg xmlns=\"http://www.w3.org/2000/svg\" height=\"24px\"viewBox=\"0 0 24 24\"\n",
              "     width=\"24px\">\n",
              "    <g>\n",
              "        <path d=\"M19 3H5c-1.1 0-2 .9-2 2v14c0 1.1.9 2 2 2h14c1.1 0 2-.9 2-2V5c0-1.1-.9-2-2-2zM9 17H7v-7h2v7zm4 0h-2V7h2v10zm4 0h-2v-4h2v4z\"/>\n",
              "    </g>\n",
              "</svg>\n",
              "  </button>\n",
              "\n",
              "<style>\n",
              "  .colab-df-quickchart {\n",
              "      --bg-color: #E8F0FE;\n",
              "      --fill-color: #1967D2;\n",
              "      --hover-bg-color: #E2EBFA;\n",
              "      --hover-fill-color: #174EA6;\n",
              "      --disabled-fill-color: #AAA;\n",
              "      --disabled-bg-color: #DDD;\n",
              "  }\n",
              "\n",
              "  [theme=dark] .colab-df-quickchart {\n",
              "      --bg-color: #3B4455;\n",
              "      --fill-color: #D2E3FC;\n",
              "      --hover-bg-color: #434B5C;\n",
              "      --hover-fill-color: #FFFFFF;\n",
              "      --disabled-bg-color: #3B4455;\n",
              "      --disabled-fill-color: #666;\n",
              "  }\n",
              "\n",
              "  .colab-df-quickchart {\n",
              "    background-color: var(--bg-color);\n",
              "    border: none;\n",
              "    border-radius: 50%;\n",
              "    cursor: pointer;\n",
              "    display: none;\n",
              "    fill: var(--fill-color);\n",
              "    height: 32px;\n",
              "    padding: 0;\n",
              "    width: 32px;\n",
              "  }\n",
              "\n",
              "  .colab-df-quickchart:hover {\n",
              "    background-color: var(--hover-bg-color);\n",
              "    box-shadow: 0 1px 2px rgba(60, 64, 67, 0.3), 0 1px 3px 1px rgba(60, 64, 67, 0.15);\n",
              "    fill: var(--button-hover-fill-color);\n",
              "  }\n",
              "\n",
              "  .colab-df-quickchart-complete:disabled,\n",
              "  .colab-df-quickchart-complete:disabled:hover {\n",
              "    background-color: var(--disabled-bg-color);\n",
              "    fill: var(--disabled-fill-color);\n",
              "    box-shadow: none;\n",
              "  }\n",
              "\n",
              "  .colab-df-spinner {\n",
              "    border: 2px solid var(--fill-color);\n",
              "    border-color: transparent;\n",
              "    border-bottom-color: var(--fill-color);\n",
              "    animation:\n",
              "      spin 1s steps(1) infinite;\n",
              "  }\n",
              "\n",
              "  @keyframes spin {\n",
              "    0% {\n",
              "      border-color: transparent;\n",
              "      border-bottom-color: var(--fill-color);\n",
              "      border-left-color: var(--fill-color);\n",
              "    }\n",
              "    20% {\n",
              "      border-color: transparent;\n",
              "      border-left-color: var(--fill-color);\n",
              "      border-top-color: var(--fill-color);\n",
              "    }\n",
              "    30% {\n",
              "      border-color: transparent;\n",
              "      border-left-color: var(--fill-color);\n",
              "      border-top-color: var(--fill-color);\n",
              "      border-right-color: var(--fill-color);\n",
              "    }\n",
              "    40% {\n",
              "      border-color: transparent;\n",
              "      border-right-color: var(--fill-color);\n",
              "      border-top-color: var(--fill-color);\n",
              "    }\n",
              "    60% {\n",
              "      border-color: transparent;\n",
              "      border-right-color: var(--fill-color);\n",
              "    }\n",
              "    80% {\n",
              "      border-color: transparent;\n",
              "      border-right-color: var(--fill-color);\n",
              "      border-bottom-color: var(--fill-color);\n",
              "    }\n",
              "    90% {\n",
              "      border-color: transparent;\n",
              "      border-bottom-color: var(--fill-color);\n",
              "    }\n",
              "  }\n",
              "</style>\n",
              "\n",
              "  <script>\n",
              "    async function quickchart(key) {\n",
              "      const quickchartButtonEl =\n",
              "        document.querySelector('#' + key + ' button');\n",
              "      quickchartButtonEl.disabled = true;  // To prevent multiple clicks.\n",
              "      quickchartButtonEl.classList.add('colab-df-spinner');\n",
              "      try {\n",
              "        const charts = await google.colab.kernel.invokeFunction(\n",
              "            'suggestCharts', [key], {});\n",
              "      } catch (error) {\n",
              "        console.error('Error during call to suggestCharts:', error);\n",
              "      }\n",
              "      quickchartButtonEl.classList.remove('colab-df-spinner');\n",
              "      quickchartButtonEl.classList.add('colab-df-quickchart-complete');\n",
              "    }\n",
              "    (() => {\n",
              "      let quickchartButtonEl =\n",
              "        document.querySelector('#df-38c6698c-651e-45f5-8508-dc68781f56f5 button');\n",
              "      quickchartButtonEl.style.display =\n",
              "        google.colab.kernel.accessAllowed ? 'block' : 'none';\n",
              "    })();\n",
              "  </script>\n",
              "</div>\n",
              "\n",
              "  <div id=\"id_d5cca65d-3c05-415b-8582-0df136c6c9f7\">\n",
              "    <style>\n",
              "      .colab-df-generate {\n",
              "        background-color: #E8F0FE;\n",
              "        border: none;\n",
              "        border-radius: 50%;\n",
              "        cursor: pointer;\n",
              "        display: none;\n",
              "        fill: #1967D2;\n",
              "        height: 32px;\n",
              "        padding: 0 0 0 0;\n",
              "        width: 32px;\n",
              "      }\n",
              "\n",
              "      .colab-df-generate:hover {\n",
              "        background-color: #E2EBFA;\n",
              "        box-shadow: 0px 1px 2px rgba(60, 64, 67, 0.3), 0px 1px 3px 1px rgba(60, 64, 67, 0.15);\n",
              "        fill: #174EA6;\n",
              "      }\n",
              "\n",
              "      [theme=dark] .colab-df-generate {\n",
              "        background-color: #3B4455;\n",
              "        fill: #D2E3FC;\n",
              "      }\n",
              "\n",
              "      [theme=dark] .colab-df-generate:hover {\n",
              "        background-color: #434B5C;\n",
              "        box-shadow: 0px 1px 3px 1px rgba(0, 0, 0, 0.15);\n",
              "        filter: drop-shadow(0px 1px 2px rgba(0, 0, 0, 0.3));\n",
              "        fill: #FFFFFF;\n",
              "      }\n",
              "    </style>\n",
              "    <button class=\"colab-df-generate\" onclick=\"generateWithVariable('df')\"\n",
              "            title=\"Generate code using this dataframe.\"\n",
              "            style=\"display:none;\">\n",
              "\n",
              "  <svg xmlns=\"http://www.w3.org/2000/svg\" height=\"24px\"viewBox=\"0 0 24 24\"\n",
              "       width=\"24px\">\n",
              "    <path d=\"M7,19H8.4L18.45,9,17,7.55,7,17.6ZM5,21V16.75L18.45,3.32a2,2,0,0,1,2.83,0l1.4,1.43a1.91,1.91,0,0,1,.58,1.4,1.91,1.91,0,0,1-.58,1.4L9.25,21ZM18.45,9,17,7.55Zm-12,3A5.31,5.31,0,0,0,4.9,8.1,5.31,5.31,0,0,0,1,6.5,5.31,5.31,0,0,0,4.9,4.9,5.31,5.31,0,0,0,6.5,1,5.31,5.31,0,0,0,8.1,4.9,5.31,5.31,0,0,0,12,6.5,5.46,5.46,0,0,0,6.5,12Z\"/>\n",
              "  </svg>\n",
              "    </button>\n",
              "    <script>\n",
              "      (() => {\n",
              "      const buttonEl =\n",
              "        document.querySelector('#id_d5cca65d-3c05-415b-8582-0df136c6c9f7 button.colab-df-generate');\n",
              "      buttonEl.style.display =\n",
              "        google.colab.kernel.accessAllowed ? 'block' : 'none';\n",
              "\n",
              "      buttonEl.onclick = () => {\n",
              "        google.colab.notebook.generateWithVariable('df');\n",
              "      }\n",
              "      })();\n",
              "    </script>\n",
              "  </div>\n",
              "\n",
              "    </div>\n",
              "  </div>\n"
            ],
            "application/vnd.google.colaboratory.intrinsic+json": {
              "type": "dataframe",
              "variable_name": "df",
              "summary": "{\n  \"name\": \"df\",\n  \"rows\": 2000,\n  \"fields\": [\n    {\n      \"column\": \"WorkoutTime\",\n      \"properties\": {\n        \"dtype\": \"number\",\n        \"std\": 0.8766394989849539,\n        \"min\": 0.01,\n        \"max\": 3.0,\n        \"num_unique_values\": 300,\n        \"samples\": [\n          0.49,\n          1.44,\n          0.25\n        ],\n        \"semantic_type\": \"\",\n        \"description\": \"\"\n      }\n    },\n    {\n      \"column\": \"ReadingTime\",\n      \"properties\": {\n        \"dtype\": \"number\",\n        \"std\": 0.5773026354880699,\n        \"min\": 0.0,\n        \"max\": 2.0,\n        \"num_unique_values\": 201,\n        \"samples\": [\n          0.99,\n          1.8,\n          1.94\n        ],\n        \"semantic_type\": \"\",\n        \"description\": \"\"\n      }\n    },\n    {\n      \"column\": \"PhoneTime\",\n      \"properties\": {\n        \"dtype\": \"number\",\n        \"std\": 1.1517761310702062,\n        \"min\": 1.0,\n        \"max\": 5.0,\n        \"num_unique_values\": 394,\n        \"samples\": [\n          1.24,\n          3.44,\n          3.74\n        ],\n        \"semantic_type\": \"\",\n        \"description\": \"\"\n      }\n    },\n    {\n      \"column\": \"WorkHours\",\n      \"properties\": {\n        \"dtype\": \"number\",\n        \"std\": 1.723842897175399,\n        \"min\": 4.0,\n        \"max\": 10.0,\n        \"num_unique_values\": 581,\n        \"samples\": [\n          9.31,\n          7.34,\n          9.93\n        ],\n        \"semantic_type\": \"\",\n        \"description\": \"\"\n      }\n    },\n    {\n      \"column\": \"CaffeineIntake\",\n      \"properties\": {\n        \"dtype\": \"number\",\n        \"std\": 84.65113905839385,\n        \"min\": 0.02,\n        \"max\": 299.85,\n        \"num_unique_values\": 1939,\n        \"samples\": [\n          176.95,\n          224.41,\n          124.45\n        ],\n        \"semantic_type\": \"\",\n        \"description\": \"\"\n      }\n    },\n    {\n      \"column\": \"RelaxationTime\",\n      \"properties\": {\n        \"dtype\": \"number\",\n        \"std\": 0.5826194819136693,\n        \"min\": 0.0,\n        \"max\": 2.0,\n        \"num_unique_values\": 201,\n        \"samples\": [\n          1.3,\n          0.01,\n          0.58\n        ],\n        \"semantic_type\": \"\",\n        \"description\": \"\"\n      }\n    },\n    {\n      \"column\": \"SleepTime\",\n      \"properties\": {\n        \"dtype\": \"number\",\n        \"std\": 2.0288920402107173,\n        \"min\": 0.15,\n        \"max\": 19.81,\n        \"num_unique_values\": 475,\n        \"samples\": [\n          3.86,\n          0.38,\n          6.99\n        ],\n        \"semantic_type\": \"\",\n        \"description\": \"\"\n      }\n    }\n  ]\n}"
            }
          },
          "metadata": {},
          "execution_count": 2
        }
      ]
    },
    {
      "cell_type": "code",
      "source": [
        "from pyspark.sql.session import SparkSession\n",
        "\n",
        "spark = SparkSession \\\n",
        "    .builder \\\n",
        "    .appName(\"ML\") \\\n",
        "    .getOrCreate()"
      ],
      "metadata": {
        "id": "MJdR3668OXDp"
      },
      "execution_count": 3,
      "outputs": []
    },
    {
      "cell_type": "code",
      "source": [
        "dataset = spark.createDataFrame(df)"
      ],
      "metadata": {
        "id": "KkPViPunOsg1"
      },
      "execution_count": 4,
      "outputs": []
    },
    {
      "cell_type": "code",
      "source": [
        "dataset.printSchema()"
      ],
      "metadata": {
        "colab": {
          "base_uri": "https://localhost:8080/"
        },
        "id": "u1MjOSEAPsfR",
        "outputId": "500dae87-972c-4160-b9f3-6cf73c29a1a1"
      },
      "execution_count": 5,
      "outputs": [
        {
          "output_type": "stream",
          "name": "stdout",
          "text": [
            "root\n",
            " |-- WorkoutTime: double (nullable = true)\n",
            " |-- ReadingTime: double (nullable = true)\n",
            " |-- PhoneTime: double (nullable = true)\n",
            " |-- WorkHours: double (nullable = true)\n",
            " |-- CaffeineIntake: double (nullable = true)\n",
            " |-- RelaxationTime: double (nullable = true)\n",
            " |-- SleepTime: double (nullable = true)\n",
            "\n"
          ]
        }
      ]
    },
    {
      "cell_type": "code",
      "source": [
        "dataset.show(10, truncate=True)"
      ],
      "metadata": {
        "colab": {
          "base_uri": "https://localhost:8080/"
        },
        "id": "IEOhj7agPv4s",
        "outputId": "9d71376a-acc9-40d0-8146-23b44597ddb1"
      },
      "execution_count": 6,
      "outputs": [
        {
          "output_type": "stream",
          "name": "stdout",
          "text": [
            "+-----------+-----------+---------+---------+--------------+--------------+---------+\n",
            "|WorkoutTime|ReadingTime|PhoneTime|WorkHours|CaffeineIntake|RelaxationTime|SleepTime|\n",
            "+-----------+-----------+---------+---------+--------------+--------------+---------+\n",
            "|       1.12|       0.52|     3.29|     7.89|        216.08|          0.75|     3.45|\n",
            "|       2.85|       0.49|     4.22|     5.03|        206.18|          0.67|     4.88|\n",
            "|        2.2|       1.81|     4.04|     9.23|         28.73|          0.35|     3.61|\n",
            "|        1.8|        0.5|     1.62|     7.68|        276.77|          1.21|     4.94|\n",
            "|       0.47|       0.54|      1.6|     4.94|        170.54|          0.95|      5.5|\n",
            "|       0.47|       1.52|     2.07|     9.77|        109.12|          1.73|     4.01|\n",
            "|       0.17|        0.9|     2.44|     7.11|        226.96|          0.06|     3.62|\n",
            "|        2.6|       1.55|     2.63|     4.44|         77.21|          1.29|     6.77|\n",
            "|        1.8|       0.13|     3.72|     7.76|        208.05|          1.53|      3.8|\n",
            "|       2.12|       0.98|     1.23|     5.52|         11.91|          1.52|     6.99|\n",
            "+-----------+-----------+---------+---------+--------------+--------------+---------+\n",
            "only showing top 10 rows\n",
            "\n"
          ]
        }
      ]
    },
    {
      "cell_type": "code",
      "source": [
        "dataset.describe().toPandas()"
      ],
      "metadata": {
        "colab": {
          "base_uri": "https://localhost:8080/",
          "height": 204
        },
        "id": "rCY4ZySQPzcA",
        "outputId": "e02d95be-3607-40b8-b50e-23c6721f6cfc"
      },
      "execution_count": 7,
      "outputs": [
        {
          "output_type": "execute_result",
          "data": {
            "text/plain": [
              "  summary         WorkoutTime         ReadingTime           PhoneTime  \\\n",
              "0   count                2000                2000                2000   \n",
              "1    mean  1.4959150000000003  0.9927849999999996  2.9851950000000005   \n",
              "2  stddev  0.8766394989849535  0.5773026354880694  1.1517761310702055   \n",
              "3     min                0.01                 0.0                 1.0   \n",
              "4     max                 3.0                 2.0                 5.0   \n",
              "\n",
              "           WorkHours      CaffeineIntake      RelaxationTime  \\\n",
              "0               2000                2000                2000   \n",
              "1  6.926944999999995  147.49378000000007  1.0109550000000005   \n",
              "2  1.723842897175398   84.65113905839392  0.5826194819136693   \n",
              "3                4.0                0.02                 0.0   \n",
              "4               10.0              299.85                 2.0   \n",
              "\n",
              "           SleepTime  \n",
              "0               2000  \n",
              "1  4.884374999999999  \n",
              "2  2.028892040210719  \n",
              "3               0.15  \n",
              "4              19.81  "
            ],
            "text/html": [
              "\n",
              "  <div id=\"df-520c3e38-9918-4c7c-b0dd-f94c6e573755\" class=\"colab-df-container\">\n",
              "    <div>\n",
              "<style scoped>\n",
              "    .dataframe tbody tr th:only-of-type {\n",
              "        vertical-align: middle;\n",
              "    }\n",
              "\n",
              "    .dataframe tbody tr th {\n",
              "        vertical-align: top;\n",
              "    }\n",
              "\n",
              "    .dataframe thead th {\n",
              "        text-align: right;\n",
              "    }\n",
              "</style>\n",
              "<table border=\"1\" class=\"dataframe\">\n",
              "  <thead>\n",
              "    <tr style=\"text-align: right;\">\n",
              "      <th></th>\n",
              "      <th>summary</th>\n",
              "      <th>WorkoutTime</th>\n",
              "      <th>ReadingTime</th>\n",
              "      <th>PhoneTime</th>\n",
              "      <th>WorkHours</th>\n",
              "      <th>CaffeineIntake</th>\n",
              "      <th>RelaxationTime</th>\n",
              "      <th>SleepTime</th>\n",
              "    </tr>\n",
              "  </thead>\n",
              "  <tbody>\n",
              "    <tr>\n",
              "      <th>0</th>\n",
              "      <td>count</td>\n",
              "      <td>2000</td>\n",
              "      <td>2000</td>\n",
              "      <td>2000</td>\n",
              "      <td>2000</td>\n",
              "      <td>2000</td>\n",
              "      <td>2000</td>\n",
              "      <td>2000</td>\n",
              "    </tr>\n",
              "    <tr>\n",
              "      <th>1</th>\n",
              "      <td>mean</td>\n",
              "      <td>1.4959150000000003</td>\n",
              "      <td>0.9927849999999996</td>\n",
              "      <td>2.9851950000000005</td>\n",
              "      <td>6.926944999999995</td>\n",
              "      <td>147.49378000000007</td>\n",
              "      <td>1.0109550000000005</td>\n",
              "      <td>4.884374999999999</td>\n",
              "    </tr>\n",
              "    <tr>\n",
              "      <th>2</th>\n",
              "      <td>stddev</td>\n",
              "      <td>0.8766394989849535</td>\n",
              "      <td>0.5773026354880694</td>\n",
              "      <td>1.1517761310702055</td>\n",
              "      <td>1.723842897175398</td>\n",
              "      <td>84.65113905839392</td>\n",
              "      <td>0.5826194819136693</td>\n",
              "      <td>2.028892040210719</td>\n",
              "    </tr>\n",
              "    <tr>\n",
              "      <th>3</th>\n",
              "      <td>min</td>\n",
              "      <td>0.01</td>\n",
              "      <td>0.0</td>\n",
              "      <td>1.0</td>\n",
              "      <td>4.0</td>\n",
              "      <td>0.02</td>\n",
              "      <td>0.0</td>\n",
              "      <td>0.15</td>\n",
              "    </tr>\n",
              "    <tr>\n",
              "      <th>4</th>\n",
              "      <td>max</td>\n",
              "      <td>3.0</td>\n",
              "      <td>2.0</td>\n",
              "      <td>5.0</td>\n",
              "      <td>10.0</td>\n",
              "      <td>299.85</td>\n",
              "      <td>2.0</td>\n",
              "      <td>19.81</td>\n",
              "    </tr>\n",
              "  </tbody>\n",
              "</table>\n",
              "</div>\n",
              "    <div class=\"colab-df-buttons\">\n",
              "\n",
              "  <div class=\"colab-df-container\">\n",
              "    <button class=\"colab-df-convert\" onclick=\"convertToInteractive('df-520c3e38-9918-4c7c-b0dd-f94c6e573755')\"\n",
              "            title=\"Convert this dataframe to an interactive table.\"\n",
              "            style=\"display:none;\">\n",
              "\n",
              "  <svg xmlns=\"http://www.w3.org/2000/svg\" height=\"24px\" viewBox=\"0 -960 960 960\">\n",
              "    <path d=\"M120-120v-720h720v720H120Zm60-500h600v-160H180v160Zm220 220h160v-160H400v160Zm0 220h160v-160H400v160ZM180-400h160v-160H180v160Zm440 0h160v-160H620v160ZM180-180h160v-160H180v160Zm440 0h160v-160H620v160Z\"/>\n",
              "  </svg>\n",
              "    </button>\n",
              "\n",
              "  <style>\n",
              "    .colab-df-container {\n",
              "      display:flex;\n",
              "      gap: 12px;\n",
              "    }\n",
              "\n",
              "    .colab-df-convert {\n",
              "      background-color: #E8F0FE;\n",
              "      border: none;\n",
              "      border-radius: 50%;\n",
              "      cursor: pointer;\n",
              "      display: none;\n",
              "      fill: #1967D2;\n",
              "      height: 32px;\n",
              "      padding: 0 0 0 0;\n",
              "      width: 32px;\n",
              "    }\n",
              "\n",
              "    .colab-df-convert:hover {\n",
              "      background-color: #E2EBFA;\n",
              "      box-shadow: 0px 1px 2px rgba(60, 64, 67, 0.3), 0px 1px 3px 1px rgba(60, 64, 67, 0.15);\n",
              "      fill: #174EA6;\n",
              "    }\n",
              "\n",
              "    .colab-df-buttons div {\n",
              "      margin-bottom: 4px;\n",
              "    }\n",
              "\n",
              "    [theme=dark] .colab-df-convert {\n",
              "      background-color: #3B4455;\n",
              "      fill: #D2E3FC;\n",
              "    }\n",
              "\n",
              "    [theme=dark] .colab-df-convert:hover {\n",
              "      background-color: #434B5C;\n",
              "      box-shadow: 0px 1px 3px 1px rgba(0, 0, 0, 0.15);\n",
              "      filter: drop-shadow(0px 1px 2px rgba(0, 0, 0, 0.3));\n",
              "      fill: #FFFFFF;\n",
              "    }\n",
              "  </style>\n",
              "\n",
              "    <script>\n",
              "      const buttonEl =\n",
              "        document.querySelector('#df-520c3e38-9918-4c7c-b0dd-f94c6e573755 button.colab-df-convert');\n",
              "      buttonEl.style.display =\n",
              "        google.colab.kernel.accessAllowed ? 'block' : 'none';\n",
              "\n",
              "      async function convertToInteractive(key) {\n",
              "        const element = document.querySelector('#df-520c3e38-9918-4c7c-b0dd-f94c6e573755');\n",
              "        const dataTable =\n",
              "          await google.colab.kernel.invokeFunction('convertToInteractive',\n",
              "                                                    [key], {});\n",
              "        if (!dataTable) return;\n",
              "\n",
              "        const docLinkHtml = 'Like what you see? Visit the ' +\n",
              "          '<a target=\"_blank\" href=https://colab.research.google.com/notebooks/data_table.ipynb>data table notebook</a>'\n",
              "          + ' to learn more about interactive tables.';\n",
              "        element.innerHTML = '';\n",
              "        dataTable['output_type'] = 'display_data';\n",
              "        await google.colab.output.renderOutput(dataTable, element);\n",
              "        const docLink = document.createElement('div');\n",
              "        docLink.innerHTML = docLinkHtml;\n",
              "        element.appendChild(docLink);\n",
              "      }\n",
              "    </script>\n",
              "  </div>\n",
              "\n",
              "\n",
              "<div id=\"df-3bab89cc-c105-41e4-8667-e66255d1fe48\">\n",
              "  <button class=\"colab-df-quickchart\" onclick=\"quickchart('df-3bab89cc-c105-41e4-8667-e66255d1fe48')\"\n",
              "            title=\"Suggest charts\"\n",
              "            style=\"display:none;\">\n",
              "\n",
              "<svg xmlns=\"http://www.w3.org/2000/svg\" height=\"24px\"viewBox=\"0 0 24 24\"\n",
              "     width=\"24px\">\n",
              "    <g>\n",
              "        <path d=\"M19 3H5c-1.1 0-2 .9-2 2v14c0 1.1.9 2 2 2h14c1.1 0 2-.9 2-2V5c0-1.1-.9-2-2-2zM9 17H7v-7h2v7zm4 0h-2V7h2v10zm4 0h-2v-4h2v4z\"/>\n",
              "    </g>\n",
              "</svg>\n",
              "  </button>\n",
              "\n",
              "<style>\n",
              "  .colab-df-quickchart {\n",
              "      --bg-color: #E8F0FE;\n",
              "      --fill-color: #1967D2;\n",
              "      --hover-bg-color: #E2EBFA;\n",
              "      --hover-fill-color: #174EA6;\n",
              "      --disabled-fill-color: #AAA;\n",
              "      --disabled-bg-color: #DDD;\n",
              "  }\n",
              "\n",
              "  [theme=dark] .colab-df-quickchart {\n",
              "      --bg-color: #3B4455;\n",
              "      --fill-color: #D2E3FC;\n",
              "      --hover-bg-color: #434B5C;\n",
              "      --hover-fill-color: #FFFFFF;\n",
              "      --disabled-bg-color: #3B4455;\n",
              "      --disabled-fill-color: #666;\n",
              "  }\n",
              "\n",
              "  .colab-df-quickchart {\n",
              "    background-color: var(--bg-color);\n",
              "    border: none;\n",
              "    border-radius: 50%;\n",
              "    cursor: pointer;\n",
              "    display: none;\n",
              "    fill: var(--fill-color);\n",
              "    height: 32px;\n",
              "    padding: 0;\n",
              "    width: 32px;\n",
              "  }\n",
              "\n",
              "  .colab-df-quickchart:hover {\n",
              "    background-color: var(--hover-bg-color);\n",
              "    box-shadow: 0 1px 2px rgba(60, 64, 67, 0.3), 0 1px 3px 1px rgba(60, 64, 67, 0.15);\n",
              "    fill: var(--button-hover-fill-color);\n",
              "  }\n",
              "\n",
              "  .colab-df-quickchart-complete:disabled,\n",
              "  .colab-df-quickchart-complete:disabled:hover {\n",
              "    background-color: var(--disabled-bg-color);\n",
              "    fill: var(--disabled-fill-color);\n",
              "    box-shadow: none;\n",
              "  }\n",
              "\n",
              "  .colab-df-spinner {\n",
              "    border: 2px solid var(--fill-color);\n",
              "    border-color: transparent;\n",
              "    border-bottom-color: var(--fill-color);\n",
              "    animation:\n",
              "      spin 1s steps(1) infinite;\n",
              "  }\n",
              "\n",
              "  @keyframes spin {\n",
              "    0% {\n",
              "      border-color: transparent;\n",
              "      border-bottom-color: var(--fill-color);\n",
              "      border-left-color: var(--fill-color);\n",
              "    }\n",
              "    20% {\n",
              "      border-color: transparent;\n",
              "      border-left-color: var(--fill-color);\n",
              "      border-top-color: var(--fill-color);\n",
              "    }\n",
              "    30% {\n",
              "      border-color: transparent;\n",
              "      border-left-color: var(--fill-color);\n",
              "      border-top-color: var(--fill-color);\n",
              "      border-right-color: var(--fill-color);\n",
              "    }\n",
              "    40% {\n",
              "      border-color: transparent;\n",
              "      border-right-color: var(--fill-color);\n",
              "      border-top-color: var(--fill-color);\n",
              "    }\n",
              "    60% {\n",
              "      border-color: transparent;\n",
              "      border-right-color: var(--fill-color);\n",
              "    }\n",
              "    80% {\n",
              "      border-color: transparent;\n",
              "      border-right-color: var(--fill-color);\n",
              "      border-bottom-color: var(--fill-color);\n",
              "    }\n",
              "    90% {\n",
              "      border-color: transparent;\n",
              "      border-bottom-color: var(--fill-color);\n",
              "    }\n",
              "  }\n",
              "</style>\n",
              "\n",
              "  <script>\n",
              "    async function quickchart(key) {\n",
              "      const quickchartButtonEl =\n",
              "        document.querySelector('#' + key + ' button');\n",
              "      quickchartButtonEl.disabled = true;  // To prevent multiple clicks.\n",
              "      quickchartButtonEl.classList.add('colab-df-spinner');\n",
              "      try {\n",
              "        const charts = await google.colab.kernel.invokeFunction(\n",
              "            'suggestCharts', [key], {});\n",
              "      } catch (error) {\n",
              "        console.error('Error during call to suggestCharts:', error);\n",
              "      }\n",
              "      quickchartButtonEl.classList.remove('colab-df-spinner');\n",
              "      quickchartButtonEl.classList.add('colab-df-quickchart-complete');\n",
              "    }\n",
              "    (() => {\n",
              "      let quickchartButtonEl =\n",
              "        document.querySelector('#df-3bab89cc-c105-41e4-8667-e66255d1fe48 button');\n",
              "      quickchartButtonEl.style.display =\n",
              "        google.colab.kernel.accessAllowed ? 'block' : 'none';\n",
              "    })();\n",
              "  </script>\n",
              "</div>\n",
              "\n",
              "    </div>\n",
              "  </div>\n"
            ],
            "application/vnd.google.colaboratory.intrinsic+json": {
              "type": "dataframe",
              "summary": "{\n  \"name\": \"dataset\",\n  \"rows\": 5,\n  \"fields\": [\n    {\n      \"column\": \"summary\",\n      \"properties\": {\n        \"dtype\": \"string\",\n        \"num_unique_values\": 5,\n        \"samples\": [\n          \"mean\",\n          \"max\",\n          \"stddev\"\n        ],\n        \"semantic_type\": \"\",\n        \"description\": \"\"\n      }\n    },\n    {\n      \"column\": \"WorkoutTime\",\n      \"properties\": {\n        \"dtype\": \"string\",\n        \"num_unique_values\": 5,\n        \"samples\": [\n          \"1.4959150000000003\",\n          \"3.0\",\n          \"0.8766394989849535\"\n        ],\n        \"semantic_type\": \"\",\n        \"description\": \"\"\n      }\n    },\n    {\n      \"column\": \"ReadingTime\",\n      \"properties\": {\n        \"dtype\": \"string\",\n        \"num_unique_values\": 5,\n        \"samples\": [\n          \"0.9927849999999996\",\n          \"2.0\",\n          \"0.5773026354880694\"\n        ],\n        \"semantic_type\": \"\",\n        \"description\": \"\"\n      }\n    },\n    {\n      \"column\": \"PhoneTime\",\n      \"properties\": {\n        \"dtype\": \"string\",\n        \"num_unique_values\": 5,\n        \"samples\": [\n          \"2.9851950000000005\",\n          \"5.0\",\n          \"1.1517761310702055\"\n        ],\n        \"semantic_type\": \"\",\n        \"description\": \"\"\n      }\n    },\n    {\n      \"column\": \"WorkHours\",\n      \"properties\": {\n        \"dtype\": \"string\",\n        \"num_unique_values\": 5,\n        \"samples\": [\n          \"6.926944999999995\",\n          \"10.0\",\n          \"1.723842897175398\"\n        ],\n        \"semantic_type\": \"\",\n        \"description\": \"\"\n      }\n    },\n    {\n      \"column\": \"CaffeineIntake\",\n      \"properties\": {\n        \"dtype\": \"string\",\n        \"num_unique_values\": 5,\n        \"samples\": [\n          \"147.49378000000007\",\n          \"299.85\",\n          \"84.65113905839392\"\n        ],\n        \"semantic_type\": \"\",\n        \"description\": \"\"\n      }\n    },\n    {\n      \"column\": \"RelaxationTime\",\n      \"properties\": {\n        \"dtype\": \"string\",\n        \"num_unique_values\": 5,\n        \"samples\": [\n          \"1.0109550000000005\",\n          \"2.0\",\n          \"0.5826194819136693\"\n        ],\n        \"semantic_type\": \"\",\n        \"description\": \"\"\n      }\n    },\n    {\n      \"column\": \"SleepTime\",\n      \"properties\": {\n        \"dtype\": \"string\",\n        \"num_unique_values\": 5,\n        \"samples\": [\n          \"4.884374999999999\",\n          \"19.81\",\n          \"2.028892040210719\"\n        ],\n        \"semantic_type\": \"\",\n        \"description\": \"\"\n      }\n    }\n  ]\n}"
            }
          },
          "metadata": {},
          "execution_count": 7
        }
      ]
    },
    {
      "cell_type": "code",
      "source": [
        "target_name = 'SleepTime'"
      ],
      "metadata": {
        "id": "ERAS3S_4P-vm"
      },
      "execution_count": 8,
      "outputs": []
    },
    {
      "cell_type": "code",
      "source": [
        "feature_names = dataset.columns[:-1]\n",
        "feature_names"
      ],
      "metadata": {
        "colab": {
          "base_uri": "https://localhost:8080/"
        },
        "id": "e5NRvYdcQKi5",
        "outputId": "63a445d3-6e31-4812-d583-ba9abebac029"
      },
      "execution_count": 9,
      "outputs": [
        {
          "output_type": "execute_result",
          "data": {
            "text/plain": [
              "['WorkoutTime',\n",
              " 'ReadingTime',\n",
              " 'PhoneTime',\n",
              " 'WorkHours',\n",
              " 'CaffeineIntake',\n",
              " 'RelaxationTime']"
            ]
          },
          "metadata": {},
          "execution_count": 9
        }
      ]
    },
    {
      "cell_type": "code",
      "source": [
        "from pyspark.ml import Pipeline\n",
        "from pyspark.ml.feature import StandardScaler, VectorAssembler\n",
        "from pyspark.ml.regression import LinearRegression"
      ],
      "metadata": {
        "id": "2HckeL9AQOqG"
      },
      "execution_count": 10,
      "outputs": []
    },
    {
      "cell_type": "code",
      "source": [
        "assembler = VectorAssembler(inputCols=feature_names, outputCol='features')\n",
        "scaler = StandardScaler(withMean=True, withStd=True, inputCol='features', outputCol='features_scaled')\n",
        "lin_reg = LinearRegression(featuresCol='features_scaled', labelCol=target_name)\n",
        "\n",
        "pipeline = Pipeline(stages=[assembler, scaler, lin_reg])"
      ],
      "metadata": {
        "id": "8eV4Gjf9QVkk"
      },
      "execution_count": 11,
      "outputs": []
    },
    {
      "cell_type": "code",
      "source": [
        "train_set, test_set = dataset.randomSplit([0.85, 0.15], seed=42)"
      ],
      "metadata": {
        "id": "M6h46kEIQw3i"
      },
      "execution_count": 12,
      "outputs": []
    },
    {
      "cell_type": "code",
      "source": [
        "train_set.count(), test_set.count()"
      ],
      "metadata": {
        "colab": {
          "base_uri": "https://localhost:8080/"
        },
        "id": "7NgP9pO3ReuN",
        "outputId": "fa4a8efc-26ff-4fb0-9326-7ffe678e3116"
      },
      "execution_count": 13,
      "outputs": [
        {
          "output_type": "execute_result",
          "data": {
            "text/plain": [
              "(1731, 269)"
            ]
          },
          "metadata": {},
          "execution_count": 13
        }
      ]
    },
    {
      "cell_type": "code",
      "source": [
        "train_set.printSchema()"
      ],
      "metadata": {
        "colab": {
          "base_uri": "https://localhost:8080/"
        },
        "id": "DJOGYgoxRhCr",
        "outputId": "2af55726-b1d7-402a-e250-db8fb2d92610"
      },
      "execution_count": 14,
      "outputs": [
        {
          "output_type": "stream",
          "name": "stdout",
          "text": [
            "root\n",
            " |-- WorkoutTime: double (nullable = true)\n",
            " |-- ReadingTime: double (nullable = true)\n",
            " |-- PhoneTime: double (nullable = true)\n",
            " |-- WorkHours: double (nullable = true)\n",
            " |-- CaffeineIntake: double (nullable = true)\n",
            " |-- RelaxationTime: double (nullable = true)\n",
            " |-- SleepTime: double (nullable = true)\n",
            "\n"
          ]
        }
      ]
    },
    {
      "cell_type": "code",
      "source": [
        "model = pipeline.fit(train_set)\n",
        "predicted_train_set = model.transform(train_set)\n",
        "predicted_test_set = model.transform(test_set)"
      ],
      "metadata": {
        "id": "GSW2LO2hRkh0"
      },
      "execution_count": 15,
      "outputs": []
    },
    {
      "cell_type": "code",
      "source": [
        "\n",
        "from pyspark.ml.evaluation import RegressionEvaluator\n",
        "from pyspark.sql.functions import col"
      ],
      "metadata": {
        "id": "OkIvz45jR73K"
      },
      "execution_count": 16,
      "outputs": []
    },
    {
      "cell_type": "code",
      "source": [
        "regression_evaluator = RegressionEvaluator(metricName='rmse', predictionCol='prediction', labelCol=target_name)\n",
        "regression_evaluator_rsme = RegressionEvaluator(metricName='rmse', predictionCol='prediction', labelCol=target_name)\n",
        "regression_evaluator_r2 = RegressionEvaluator(metricName='r2', predictionCol='prediction', labelCol=target_name)\n",
        "regression_evaluator_mae = RegressionEvaluator(metricName='mae', predictionCol='prediction', labelCol=target_name)"
      ],
      "metadata": {
        "id": "GUtaQtiNR_gW"
      },
      "execution_count": 17,
      "outputs": []
    },
    {
      "cell_type": "code",
      "source": [
        "#regression_evaluator_rsme.evaluate(predicted_train_set)\n",
        "print('RMSE:', regression_evaluator_rsme.evaluate(predicted_train_set))\n",
        "#regression_evaluator_r2.evaluate(predicted_train_set)  # R-squared\n",
        "print('R2:', regression_evaluator_r2.evaluate(predicted_train_set))\n",
        "#regression_evaluator_mae.evaluate(predicted_train_set)  # Mean Absolute Error\n",
        "print('MAE:', regression_evaluator_mae.evaluate(predicted_train_set))"
      ],
      "metadata": {
        "colab": {
          "base_uri": "https://localhost:8080/"
        },
        "id": "vseAF1JtSI48",
        "outputId": "064b30e0-7903-4efd-90f5-f0aa6d3ba596"
      },
      "execution_count": 18,
      "outputs": [
        {
          "output_type": "stream",
          "name": "stdout",
          "text": [
            "RMSE: 1.7482151078227604\n",
            "R2: 0.2588557051410404\n",
            "MAE: 0.5680909054748086\n"
          ]
        }
      ]
    },
    {
      "cell_type": "code",
      "source": [
        "#regression_evaluator_rsme.evaluate(predicted_test_set)\n",
        "print('RMSE:', regression_evaluator_rsme.evaluate(predicted_test_set))\n",
        "#regression_evaluator_r2.evaluate(predicted_test_set)\n",
        "print('R2:', regression_evaluator_r2.evaluate(predicted_test_set))\n",
        "#regression_evaluator_mae.evaluate(predicted_test_set)\n",
        "print('MAE:', regression_evaluator_mae.evaluate(predicted_test_set))"
      ],
      "metadata": {
        "colab": {
          "base_uri": "https://localhost:8080/"
        },
        "id": "d5nHhS9ESPEN",
        "outputId": "33defed0-9960-4a77-8596-508a3df9a391"
      },
      "execution_count": 19,
      "outputs": [
        {
          "output_type": "stream",
          "name": "stdout",
          "text": [
            "RMSE: 1.7133848426800444\n",
            "R2: 0.27577477992834454\n",
            "MAE: 0.5572016893016882\n"
          ]
        }
      ]
    },
    {
      "cell_type": "code",
      "source": [
        "diffs_test = predicted_test_set.withColumn('diff',\n",
        "                                           col('prediction') - col(target_name)).select('diff')\n",
        "diffs_train = predicted_train_set.withColumn('diff',\n",
        "                                           col('prediction') - col(target_name)).select('diff')\n",
        "diffs_train.toPandas()['diff'].hist(bins=20, label='train', alpha=0.5)\n",
        "diffs_test.toPandas()['diff'].hist(bins=20, label='test', alpha=0.5)\n",
        "plt.legend()"
      ],
      "metadata": {
        "colab": {
          "base_uri": "https://localhost:8080/",
          "height": 447
        },
        "id": "oJTpBODeSVdz",
        "outputId": "cf6e701f-fcfb-4b2f-e2c3-887c8ae0d9c0"
      },
      "execution_count": 20,
      "outputs": [
        {
          "output_type": "execute_result",
          "data": {
            "text/plain": [
              "<matplotlib.legend.Legend at 0x7909241ffe10>"
            ]
          },
          "metadata": {},
          "execution_count": 20
        },
        {
          "output_type": "display_data",
          "data": {
            "text/plain": [
              "<Figure size 640x480 with 1 Axes>"
            ],
            "image/png": "[encoded data removed]"
          },
          "metadata": {}
        }
      ]
    },
    {
      "cell_type": "code",
      "source": [
        "from pyspark.ml.tuning import CrossValidator, ParamGridBuilder\n",
        "\n",
        "# lin_reg = LinearRegression(featuresCol='features_scaled', labelCol=target_name)\n",
        "\n",
        "param_grid = ParamGridBuilder() \\\n",
        "    .addGrid(pipeline.getStages()[2].regParam, [0.1, 0.05, 0.01, 0.005, 0.001, 0.0005]) \\\n",
        "    .addGrid(pipeline.getStages()[2].fitIntercept, [False, True])\\\n",
        "    .addGrid(pipeline.getStages()[2].elasticNetParam, [0.0, 0.5, 1.0])\\\n",
        "    .build()\n",
        "\n",
        "cv = CrossValidator(estimator=pipeline,\n",
        "                    estimatorParamMaps=param_grid,\n",
        "                    evaluator=RegressionEvaluator(labelCol=target_name,\n",
        "                                                  predictionCol='prediction'),\n",
        "                    numFolds=5)\n",
        "\n",
        "cv_model = cv.fit(train_set)"
      ],
      "metadata": {
        "id": "hOQ3WB3KTr7D"
      },
      "execution_count": 21,
      "outputs": []
    },
    {
      "cell_type": "code",
      "source": [
        "cv_model.transform(train_set).select('prediction').show(10)"
      ],
      "metadata": {
        "colab": {
          "base_uri": "https://localhost:8080/"
        },
        "id": "hRCc9ibZUC9m",
        "outputId": "bc091b68-22a5-4b90-a73f-749c9c30233d"
      },
      "execution_count": 22,
      "outputs": [
        {
          "output_type": "stream",
          "name": "stdout",
          "text": [
            "+------------------+\n",
            "|        prediction|\n",
            "+------------------+\n",
            "| 3.926767387356528|\n",
            "| 4.576832362972226|\n",
            "| 4.878828704487725|\n",
            "| 5.470161979722212|\n",
            "|  2.52759897162081|\n",
            "| 5.424037348396492|\n",
            "| 3.293400558196331|\n",
            "| 3.003036390417031|\n",
            "|2.5531237842663006|\n",
            "| 5.269824283385049|\n",
            "+------------------+\n",
            "only showing top 10 rows\n",
            "\n"
          ]
        }
      ]
    },
    {
      "cell_type": "code",
      "source": [
        "predicted_test_set = cv_model.transform(test_set)"
      ],
      "metadata": {
        "id": "CNJqioliU3-u"
      },
      "execution_count": 23,
      "outputs": []
    },
    {
      "cell_type": "code",
      "source": [
        "regression_evaluator.evaluate(predicted_test_set)"
      ],
      "metadata": {
        "colab": {
          "base_uri": "https://localhost:8080/"
        },
        "id": "qqDA1bhPU8rz",
        "outputId": "d9708762-d84c-4b44-a1c9-081a8826d19f"
      },
      "execution_count": 24,
      "outputs": [
        {
          "output_type": "execute_result",
          "data": {
            "text/plain": [
              "1.714579220016286"
            ]
          },
          "metadata": {},
          "execution_count": 24
        }
      ]
    },
    {
      "cell_type": "code",
      "source": [
        "diffs_test_cv = predicted_test_set.withColumn('diff', col('prediction') - col(target_name)).select('diff')\n",
        "diffs_test_cv.show(5)"
      ],
      "metadata": {
        "colab": {
          "base_uri": "https://localhost:8080/"
        },
        "id": "HTqIilX4U-6T",
        "outputId": "7b0aadfd-7059-47ce-b5f4-774d9cd54ed9"
      },
      "execution_count": 25,
      "outputs": [
        {
          "output_type": "stream",
          "name": "stdout",
          "text": [
            "+-------------------+\n",
            "|               diff|\n",
            "+-------------------+\n",
            "| 0.2220490816139593|\n",
            "|0.46890946166443737|\n",
            "| 0.0935418207940053|\n",
            "|0.48377846405053804|\n",
            "|  0.293024214839658|\n",
            "+-------------------+\n",
            "only showing top 5 rows\n",
            "\n"
          ]
        }
      ]
    },
    {
      "cell_type": "code",
      "source": [
        "diffs_test_cv.toPandas()['diff'].hist(bins=20, label='CV', alpha=0.5)\n",
        "diffs_test.toPandas()['diff'].hist(bins=20, label='default', alpha=0.5)\n",
        "plt.legend()"
      ],
      "metadata": {
        "colab": {
          "base_uri": "https://localhost:8080/",
          "height": 449
        },
        "id": "U4QW1Rj9VH32",
        "outputId": "f3dee3c6-9462-424d-9334-838c6942dadd"
      },
      "execution_count": 26,
      "outputs": [
        {
          "output_type": "execute_result",
          "data": {
            "text/plain": [
              "<matplotlib.legend.Legend at 0x79091493c690>"
            ]
          },
          "metadata": {},
          "execution_count": 26
        },
        {
          "output_type": "display_data",
          "data": {
            "text/plain": [
              "<Figure size 640x480 with 1 Axes>"
            ],
            "image/png": "[encoded data removed]"
          },
          "metadata": {}
        }
      ]
    },
    {
      "cell_type": "code",
      "source": [
        "from pyspark.ml.regression import RandomForestRegressor\n",
        "from pyspark.ml.evaluation import RegressionEvaluator\n",
        "\n",
        "pipeline = Pipeline(stages=[assembler, scaler, RandomForestRegressor(featuresCol='features_scaled', labelCol=target_name,  maxDepth=10, numTrees=20)])"
      ],
      "metadata": {
        "id": "NvnvF9opVTPl"
      },
      "execution_count": 27,
      "outputs": []
    },
    {
      "cell_type": "code",
      "source": [
        "train_set, test_set = dataset.randomSplit([0.85, 0.15], seed=42)"
      ],
      "metadata": {
        "id": "8n5MCTsoJEui"
      },
      "execution_count": 28,
      "outputs": []
    },
    {
      "cell_type": "code",
      "source": [
        "model = pipeline.fit(train_set)\n",
        "predicted_train_set = model.transform(train_set)\n",
        "predicted_test_set = model.transform(test_set)"
      ],
      "metadata": {
        "id": "ohvAceL3Jw5d"
      },
      "execution_count": 29,
      "outputs": []
    },
    {
      "cell_type": "code",
      "source": [
        "from pyspark.ml.evaluation import RegressionEvaluator\n",
        "from pyspark.sql.functions import col\n",
        "\n",
        "regression_evaluator = RegressionEvaluator(metricName='rmse', predictionCol='prediction', labelCol=target_name)\n",
        "regression_evaluator_rsme = RegressionEvaluator(metricName='rmse', predictionCol='prediction', labelCol=target_name)\n",
        "regression_evaluator_r2 = RegressionEvaluator(metricName='r2', predictionCol='prediction', labelCol=target_name)\n",
        "regression_evaluator_mae = RegressionEvaluator(metricName='mae', predictionCol='prediction', labelCol=target_name)\n",
        "\n",
        "#regression_evaluator_rsme.evaluate(predicted_test_set)\n",
        "print('RMSE:', regression_evaluator_rsme.evaluate(predicted_test_set))\n",
        "#regression_evaluator_r2.evaluate(predicted_test_set)\n",
        "print('R2:', regression_evaluator_r2.evaluate(predicted_test_set))\n",
        "#regression_evaluator_mae.evaluate(predicted_test_set)\n",
        "print('MAE:', regression_evaluator_mae.evaluate(predicted_test_set))\n"
      ],
      "metadata": {
        "colab": {
          "base_uri": "https://localhost:8080/"
        },
        "id": "Kv-uJhykJ3YI",
        "outputId": "ab020084-2909-4498-a179-f9504bf5ec4e"
      },
      "execution_count": 30,
      "outputs": [
        {
          "output_type": "stream",
          "name": "stdout",
          "text": [
            "RMSE: 1.786798290269068\n",
            "R2: 0.21238340224776409\n",
            "MAE: 0.7268625715770283\n"
          ]
        }
      ]
    },
    {
      "cell_type": "code",
      "source": [
        "from pyspark.ml.regression import GBTRegressor\n",
        "from pyspark.ml.evaluation import RegressionEvaluator\n",
        "\n",
        "pipeline = Pipeline(stages=[assembler, scaler, GBTRegressor(featuresCol='features_scaled', labelCol=target_name)])\n",
        "\n",
        "model = pipeline.fit(train_set)\n",
        "predicted_train_set = model.transform(train_set)\n",
        "predicted_test_set = model.transform(test_set)"
      ],
      "metadata": {
        "id": "T2xwqwGGKVRW"
      },
      "execution_count": 31,
      "outputs": []
    },
    {
      "cell_type": "code",
      "source": [
        "from pyspark.ml.evaluation import RegressionEvaluator\n",
        "from pyspark.sql.functions import col\n",
        "\n",
        "regression_evaluator = RegressionEvaluator(metricName='rmse', predictionCol='prediction', labelCol=target_name)\n",
        "regression_evaluator_rsme = RegressionEvaluator(metricName='rmse', predictionCol='prediction', labelCol=target_name)\n",
        "regression_evaluator_r2 = RegressionEvaluator(metricName='r2', predictionCol='prediction', labelCol=target_name)\n",
        "regression_evaluator_mae = RegressionEvaluator(metricName='mae', predictionCol='prediction', labelCol=target_name)\n",
        "\n",
        "#regression_evaluator_rsme.evaluate(predicted_test_set)\n",
        "print('RMSE:', regression_evaluator_rsme.evaluate(predicted_test_set))\n",
        "#regression_evaluator_r2.evaluate(predicted_test_set)\n",
        "print('R2:', regression_evaluator_r2.evaluate(predicted_test_set))\n",
        "#regression_evaluator_mae.evaluate(predicted_test_set)\n",
        "print('MAE:', regression_evaluator_mae.evaluate(predicted_test_set))\n"
      ],
      "metadata": {
        "colab": {
          "base_uri": "https://localhost:8080/"
        },
        "id": "MzVxaCdJL8qu",
        "outputId": "d8b7c3e6-9218-4933-cb19-9c4c73af7b65"
      },
      "execution_count": 32,
      "outputs": [
        {
          "output_type": "stream",
          "name": "stdout",
          "text": [
            "RMSE: 1.8792171483584126\n",
            "R2: 0.1288002606230514\n",
            "MAE: 0.8615243296144209\n"
          ]
        }
      ]
    },
    {
      "cell_type": "code",
      "source": [],
      "metadata": {
        "id": "PE1xXxLgMiu4"
      },
      "execution_count": 32,
      "outputs": []
    }
  ]
}